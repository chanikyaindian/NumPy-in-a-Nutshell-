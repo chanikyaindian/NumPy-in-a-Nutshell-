{
 "cells": [
  {
   "cell_type": "markdown",
   "metadata": {},
   "source": [
    "### Numpy Array Operations"
   ]
  },
  {
   "cell_type": "code",
   "execution_count": 2,
   "metadata": {},
   "outputs": [],
   "source": [
    "import numpy as np"
   ]
  },
  {
   "cell_type": "markdown",
   "metadata": {},
   "source": [
    "### Slicing"
   ]
  },
  {
   "cell_type": "code",
   "execution_count": 2,
   "metadata": {},
   "outputs": [
    {
     "name": "stdout",
     "output_type": "stream",
     "text": [
      "Basic slicing :  [2 3 4 5 6 7 8]\n",
      "With Step :  [2 4 6 8]\n",
      "Negative indexing :  8\n"
     ]
    }
   ],
   "source": [
    "arr = np.array([1,2,3,4,5,6,7,8,9,10])\n",
    "print(\"Basic slicing : \", arr[1:8])\n",
    "print(\"With Step : \", arr[1:8:2])\n",
    "print(\"Negative indexing : \", arr[-3])"
   ]
  },
  {
   "cell_type": "code",
   "execution_count": 14,
   "metadata": {},
   "outputs": [
    {
     "name": "stdout",
     "output_type": "stream",
     "text": [
      "Specific Element :  6\n",
      "Specific Row : [4 5 6]\n",
      "Slicing : \n",
      " [[1 2 3]\n",
      " [4 5 6]\n",
      " [7 8 9]]\n",
      "Slicing with step : \n",
      " [[1 2 3]\n",
      " [7 8 9]]\n",
      "Specific column : [1 4 7]\n",
      "Slicing with column : \n",
      " [2 5]\n",
      "Slicing with column : \n",
      " [[1 2]\n",
      " [4 5]]\n"
     ]
    }
   ],
   "source": [
    "arr_2d = np.array([\n",
    "    [1,2,3],\n",
    "    [4,5,6],\n",
    "    [7,8,9]\n",
    "])\n",
    "\n",
    "print(\"Specific Element : \", arr_2d[1,2])\n",
    "print(\"Specific Row :\", arr_2d[1])\n",
    "print(\"Slicing : \\n\", arr_2d[0:3])\n",
    "print(\"Slicing with step : \\n\", arr_2d[0:3:2])\n",
    "print(\"Specific column :\", arr_2d[:,0])\n",
    "print(\"Slicing with column : \\n\", arr_2d[0:2, 1]) # arr_2d(rows,columns)\n",
    "print(\"Slicing with column : \\n\", arr_2d[0:2, 0:2]) # arr_2d(rows,columns)"
   ]
  },
  {
   "cell_type": "markdown",
   "metadata": {},
   "source": [
    "### Sorting "
   ]
  },
  {
   "cell_type": "code",
   "execution_count": 18,
   "metadata": {},
   "outputs": [
    {
     "name": "stdout",
     "output_type": "stream",
     "text": [
      "Sorted Array :  [1 1 2 3 4 5 6 9]\n",
      "Sorted 2D array by column :\n",
      " [[2 1]\n",
      " [5 3]\n",
      " [8 4]]\n",
      "Sorted 2D array by Row :\n",
      " [[1 8]\n",
      " [4 5]\n",
      " [2 3]]\n"
     ]
    }
   ],
   "source": [
    "unsorted = np.array([3, 1, 4, 1, 5, 9, 2, 6])\n",
    "print(\"Sorted Array : \", np.sort(unsorted))\n",
    "\n",
    "arr_2d_unsorted = np.array([[8, 1], [5, 4], [2, 3]])\n",
    "print(\"Sorted 2D array by column :\\n\", np.sort(arr_2d_unsorted, axis=0)) \n",
    "print(\"Sorted 2D array by Row :\\n\", np.sort(arr_2d_unsorted, axis=1)) "
   ]
  },
  {
   "cell_type": "markdown",
   "metadata": {},
   "source": [
    "### Filtering "
   ]
  },
  {
   "cell_type": "code",
   "execution_count": 19,
   "metadata": {},
   "outputs": [
    {
     "name": "stdout",
     "output_type": "stream",
     "text": [
      "Even numbers :  [ 2  4  6  8 10]\n"
     ]
    }
   ],
   "source": [
    "numbers = np.array([1, 2, 3, 4, 5, 6, 7, 8, 9, 10])\n",
    "even = numbers[numbers%2 == 0]\n",
    "print(\"Even numbers : \", even)"
   ]
  },
  {
   "cell_type": "markdown",
   "metadata": {},
   "source": [
    "### Filtering with Masking"
   ]
  },
  {
   "cell_type": "code",
   "execution_count": 20,
   "metadata": {},
   "outputs": [
    {
     "name": "stdout",
     "output_type": "stream",
     "text": [
      "Numbers greater than 5 :  [ 6  7  8  9 10]\n"
     ]
    }
   ],
   "source": [
    "mask = numbers > 5\n",
    "print(\"Numbers greater than 5 : \", numbers[mask])"
   ]
  },
  {
   "cell_type": "markdown",
   "metadata": {},
   "source": [
    "### Fancy indexing vs np.where()"
   ]
  },
  {
   "cell_type": "code",
   "execution_count": 23,
   "metadata": {},
   "outputs": [
    {
     "name": "stdout",
     "output_type": "stream",
     "text": [
      "[1 3 5]\n",
      "Numbers greater than 5 :  [ 6  7  8  9 10]\n"
     ]
    }
   ],
   "source": [
    "indices = [0, 2, 4]\n",
    "print(numbers[indices])\n",
    "\n",
    "where_result = np.where(numbers > 5)\n",
    "# print(where_result) # (array([5, 6, 7, 8, 9]),)\n",
    "print(\"Numbers greater than 5 : \", numbers[where_result])"
   ]
  },
  {
   "cell_type": "code",
   "execution_count": 24,
   "metadata": {},
   "outputs": [
    {
     "name": "stdout",
     "output_type": "stream",
     "text": [
      "['false' 'false' 'false' 'false' 'false' 'true' 'true' 'true' 'true'\n",
      " 'true']\n"
     ]
    }
   ],
   "source": [
    "condition_array = np.where(numbers > 5, \"true\",  \"false\")\n",
    "print(condition_array)"
   ]
  },
  {
   "cell_type": "markdown",
   "metadata": {},
   "source": [
    "### Stacking"
   ]
  },
  {
   "cell_type": "code",
   "execution_count": 8,
   "metadata": {},
   "outputs": [
    {
     "name": "stdout",
     "output_type": "stream",
     "text": [
      "Original :\n",
      " [[1 2]\n",
      " [3 4]]\n",
      "Vertical Stack (Adds row) :\n",
      " [[1 2]\n",
      " [3 4]\n",
      " [5 6]]\n",
      "Horizontal stack (Add Column) :\n",
      " [[1 2 7]\n",
      " [3 4 8]]\n"
     ]
    }
   ],
   "source": [
    "original = np.array([[1, 2], [3, 4]])\n",
    "new_row = np.array([5, 6])\n",
    "\n",
    "with_new_row = np.vstack((original, new_row))\n",
    "print(\"Original :\\n\", original)\n",
    "print(\"Vertical Stack (Adds row) :\\n\", with_new_row)\n",
    "\n",
    "new_col = np.array([[7], [8]])\n",
    "with_new_col = np.hstack((original, new_col))\n",
    "print(\"Horizontal stack (Add Column) :\\n\", with_new_col)"
   ]
  },
  {
   "cell_type": "markdown",
   "metadata": {},
   "source": [
    "### Array element deletion "
   ]
  },
  {
   "cell_type": "code",
   "execution_count": 9,
   "metadata": {},
   "outputs": [
    {
     "name": "stdout",
     "output_type": "stream",
     "text": [
      "Array after deletion:  [1 2 4 5]\n"
     ]
    }
   ],
   "source": [
    "arr = np.array([1, 2, 3, 4, 5])\n",
    "deleted = np.delete(arr, 2)\n",
    "print(\"Array after deletion: \", deleted)"
   ]
  }
 ],
 "metadata": {
  "kernelspec": {
   "display_name": "Python 3",
   "language": "python",
   "name": "python3"
  },
  "language_info": {
   "codemirror_mode": {
    "name": "ipython",
    "version": 3
   },
   "file_extension": ".py",
   "mimetype": "text/x-python",
   "name": "python",
   "nbconvert_exporter": "python",
   "pygments_lexer": "ipython3",
   "version": "3.12.1"
  }
 },
 "nbformat": 4,
 "nbformat_minor": 2
}

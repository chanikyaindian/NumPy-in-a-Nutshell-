{
 "cells": [
  {
   "cell_type": "markdown",
   "metadata": {},
   "source": [
    "### Numpy Level 1"
   ]
  },
  {
   "cell_type": "code",
   "execution_count": 1,
   "metadata": {},
   "outputs": [],
   "source": [
    "import numpy as np\n",
    "import time"
   ]
  },
  {
   "cell_type": "code",
   "execution_count": 2,
   "metadata": {},
   "outputs": [
    {
     "name": "stdout",
     "output_type": "stream",
     "text": [
      "Array 1D:\n",
      " [1 2 3 4 5]\n",
      "Array 2D:\n",
      " [[1 2 3]\n",
      " [4 5 6]]\n"
     ]
    }
   ],
   "source": [
    "arr_1d = np.array([1,2,3,4,5]) # np.array(list as parameter)\n",
    "# arr_2d = np.array([1,2,3],[4,5,6]) # Error\n",
    "arr_2d = np.array([[1,2,3],[4,5,6]])\n",
    "print(\"Array 1D:\\n\",arr_1d)\n",
    "print(\"Array 2D:\\n\",arr_2d)"
   ]
  },
  {
   "cell_type": "markdown",
   "metadata": {},
   "source": [
    "### List vs Numpy With Speed Test"
   ]
  },
  {
   "cell_type": "code",
   "execution_count": null,
   "metadata": {},
   "outputs": [
    {
     "name": "stdout",
     "output_type": "stream",
     "text": [
      "Operation time Using pytho List :  0.07618355751037598\n",
      "Operation time Using Numpy Array :  0.0037865638732910156\n"
     ]
    }
   ],
   "source": [
    "py_list = [1,2,3] * 2\n",
    "# print (py_list) # [1, 2, 3, 1, 2, 3]\n",
    "np_list = [1,2,3] * 2\n",
    "# print (np_list) # [2,4,6] elementwise operation\n",
    "\n",
    "# speed test\n",
    "start = time.time()\n",
    "py_list = [i*2 for i in range(1000000)] # like [2,4,6,8 ......]\n",
    "print(\"Operation time Using pytho List : \", time.time() - start)\n",
    "\n",
    "start = time.time()\n",
    "np_list = np.arange(1000000) * 2 # like [2,4,6,8 ......]\n",
    "print(\"Operation time Using Numpy Array : \", time.time() - start)"
   ]
  },
  {
   "cell_type": "markdown",
   "metadata": {},
   "source": [
    "### Creating Numpy Arrays From Scratch "
   ]
  },
  {
   "cell_type": "code",
   "execution_count": 10,
   "metadata": {},
   "outputs": [
    {
     "name": "stdout",
     "output_type": "stream",
     "text": [
      "Zero Array :\n",
      " [[0. 0. 0.]\n",
      " [0. 0. 0.]\n",
      " [0. 0. 0.]]\n",
      "One Array :\n",
      " [[1. 1. 1.]\n",
      " [1. 1. 1.]]\n",
      "Full Array :\n",
      " [[7 7 7]\n",
      " [7 7 7]\n",
      " [7 7 7]]\n",
      "Random Array :\n",
      " [[0.580993   0.62195959 0.1925271 ]\n",
      " [0.3253056  0.50662108 0.28344543]\n",
      " [0.29926732 0.659549   0.54252983]]\n"
     ]
    }
   ],
   "source": [
    "zeros = np.zeros((3,3))\n",
    "print(\"Zero Array :\\n\",zeros)\n",
    "ones = np.ones((2,3))\n",
    "print(\"One Array :\\n\",ones)\n",
    "full = np.full((3,3),7)\n",
    "print(\"Full Array :\\n\",full)\n",
    "random = np.random.random((3,3))\n",
    "print(\"Random Array :\\n\",random)"
   ]
  },
  {
   "cell_type": "markdown",
   "metadata": {},
   "source": [
    "### What are Vectors , Matrix and Tensor"
   ]
  },
  {
   "cell_type": "code",
   "execution_count": null,
   "metadata": {},
   "outputs": [
    {
     "name": "stdout",
     "output_type": "stream",
     "text": [
      "Vector :\n",
      " [1 2 3 4 5 6]\n",
      "Matrix :\n",
      " [[1 2 3]\n",
      " [4 5 6]\n",
      " [7 8 9]]\n",
      "Tensor :\n",
      " [[[ 1  2  3]\n",
      "  [ 4  5  6]]\n",
      "\n",
      " [[ 7  8  9]\n",
      "  [10 11 12]]]\n"
     ]
    }
   ],
   "source": [
    "vector = np.array([1,2,3,4,5,6]) # This is called as vector or 1d array\n",
    "\n",
    "matrix = np.array([\n",
    "    [1,2,3],\n",
    "    [4,5,6],\n",
    "    [7,8,9]\n",
    "]) # This is called matrix or 2d array\n",
    "\n",
    "tensor = np.array([\n",
    "\n",
    "    [\n",
    "        [1,2,3],\n",
    "        [4,5,6]\n",
    "    ],\n",
    "\n",
    "    [\n",
    "        [7,8,9],\n",
    "        [10,11,12]\n",
    "    ]\n",
    "]) # This is called Tensor(An Array with more than 2 dimension, in this example it is 3d array)\n",
    "\n",
    "print(\"Vector :\\n\", vector)\n",
    "print(\"Matrix :\\n\", matrix)\n",
    "print(\"Tensor :\\n\", tensor)"
   ]
  },
  {
   "cell_type": "markdown",
   "metadata": {},
   "source": [
    "### Array Properties"
   ]
  },
  {
   "cell_type": "code",
   "execution_count": null,
   "metadata": {},
   "outputs": [
    {
     "name": "stdout",
     "output_type": "stream",
     "text": [
      "Shape: (2, 3)\n",
      "Dimension: 2\n",
      "Size: 6\n",
      "Data type: int64\n"
     ]
    }
   ],
   "source": [
    "arr = np.array([[1,2,3],\n",
    "                [3,4,5]])\n",
    "print(\"Shape:\", arr.shape)\n",
    "print(\"Dimension:\", arr.ndim)\n",
    "print(\"Size:\", arr.size)\n",
    "print(\"Data type:\", arr.dtype)"
   ]
  },
  {
   "cell_type": "markdown",
   "metadata": {},
   "source": [
    "### Array Reshaping"
   ]
  },
  {
   "cell_type": "code",
   "execution_count": 26,
   "metadata": {},
   "outputs": [
    {
     "name": "stdout",
     "output_type": "stream",
     "text": [
      "Original Array :  [ 1  2  3  4  5  6  7  8  9 10]\n",
      "Reshaped Array : \n",
      " [[ 1  2  3  4  5]\n",
      " [ 6  7  8  9 10]]\n",
      "Reshaped Array : \n",
      " [[ 1  2]\n",
      " [ 3  4]\n",
      " [ 5  6]\n",
      " [ 7  8]\n",
      " [ 9 10]]\n",
      "Flatten Array :  [ 1  2  3  4  5  6  7  8  9 10]\n",
      "Transposed array : \n",
      " [[ 1  3  5  7  9]\n",
      " [ 2  4  6  8 10]]\n"
     ]
    }
   ],
   "source": [
    "arr = np.arange(1,11)\n",
    "print(\"Original Array : \",arr)\n",
    "\n",
    "reshaped = arr.reshape((2,5))\n",
    "print(\"Reshaped Array : \\n\",reshaped)\n",
    "reshaped = arr.reshape((5,2))\n",
    "print(\"Reshaped Array : \\n\",reshaped)\n",
    "# reshaped = arr.reshape((3,3)) # Error, 3x3=9, we have 10 elements\n",
    "\n",
    "flatten = arr.flatten()\n",
    "print(\"Flatten Array : \",flatten)\n",
    "\n",
    "\n",
    "# raveled = reshaped.ravel() # ravel (returns view, instead of copy)\n",
    "# print(\"raveled array : \\n\", raveled)\n",
    "\n",
    "# Transpose\n",
    "transpose = reshaped.T\n",
    "print(\"Transposed array : \\n\", transpose)\n"
   ]
  }
 ],
 "metadata": {
  "kernelspec": {
   "display_name": "Python 3",
   "language": "python",
   "name": "python3"
  },
  "language_info": {
   "codemirror_mode": {
    "name": "ipython",
    "version": 3
   },
   "file_extension": ".py",
   "mimetype": "text/x-python",
   "name": "python",
   "nbconvert_exporter": "python",
   "pygments_lexer": "ipython3",
   "version": "3.12.1"
  }
 },
 "nbformat": 4,
 "nbformat_minor": 2
}
